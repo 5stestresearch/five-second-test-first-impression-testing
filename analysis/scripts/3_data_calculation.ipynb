{
 "cells": [
  {
   "cell_type": "code",
   "execution_count": 1,
   "id": "bc33e8eb",
   "metadata": {},
   "outputs": [
    {
     "name": "stderr",
     "output_type": "stream",
     "text": [
      "[nltk_data] Downloading package punkt to\n",
      "[nltk_data]     C:\\Users\\Matus\\AppData\\Roaming\\nltk_data...\n",
      "[nltk_data]   Package punkt is already up-to-date!\n",
      "[nltk_data] Downloading package stopwords to\n",
      "[nltk_data]     C:\\Users\\Matus\\AppData\\Roaming\\nltk_data...\n",
      "[nltk_data]   Package stopwords is already up-to-date!\n",
      "[nltk_data] Downloading package wordnet to\n",
      "[nltk_data]     C:\\Users\\Matus\\AppData\\Roaming\\nltk_data...\n",
      "[nltk_data]   Package wordnet is already up-to-date!\n",
      "[nltk_data] Downloading package omw-1.4 to\n",
      "[nltk_data]     C:\\Users\\Matus\\AppData\\Roaming\\nltk_data...\n",
      "[nltk_data]   Package omw-1.4 is already up-to-date!\n"
     ]
    },
    {
     "data": {
      "text/plain": [
       "True"
      ]
     },
     "execution_count": 1,
     "metadata": {},
     "output_type": "execute_result"
    }
   ],
   "source": [
    "import pandas as pd\n",
    "import numpy as np\n",
    "import re\n",
    "from nltk.corpus import stopwords\n",
    "from nltk.tokenize import word_tokenize\n",
    "from nltk.stem import WordNetLemmatizer\n",
    "import nltk\n",
    "import json\n",
    "nltk.download('punkt')\n",
    "nltk.download('stopwords')\n",
    "nltk.download('wordnet')\n",
    "nltk.download('omw-1.4')"
   ]
  },
  {
   "cell_type": "markdown",
   "id": "5e3136fc",
   "metadata": {},
   "source": [
    "**Calculating additional features to use in the analysis.**\n",
    "- input: formatted results and respondents cognitive tasks data\n",
    "- output: final results and respondents exports to be used for statistical analysis"
   ]
  },
  {
   "cell_type": "markdown",
   "id": "46a4f2bd",
   "metadata": {},
   "source": [
    "# Calculating features"
   ]
  },
  {
   "cell_type": "markdown",
   "id": "8300bb30",
   "metadata": {},
   "source": [
    "## Calculating new result features"
   ]
  },
  {
   "cell_type": "markdown",
   "id": "30e15beb",
   "metadata": {},
   "source": [
    "**Load results.**"
   ]
  },
  {
   "cell_type": "code",
   "execution_count": 2,
   "id": "7eb0228a",
   "metadata": {
    "scrolled": true
   },
   "outputs": [],
   "source": [
    "results = pd.read_csv(\"../data/results_labeled.csv\", index_col=0)"
   ]
  },
  {
   "cell_type": "code",
   "execution_count": 3,
   "id": "9fca8b20",
   "metadata": {
    "scrolled": false
   },
   "outputs": [
    {
     "name": "stdout",
     "output_type": "stream",
     "text": [
      "<class 'pandas.core.frame.DataFrame'>\n",
      "Int64Index: 726 entries, 0 to 725\n",
      "Data columns (total 23 columns):\n",
      " #   Column          Non-Null Count  Dtype  \n",
      "---  ------          --------------  -----  \n",
      " 0   respondent      726 non-null    int64  \n",
      " 1   task            726 non-null    int64  \n",
      " 2   interval        726 non-null    object \n",
      " 3   time            726 non-null    float64\n",
      " 4   company         726 non-null    float64\n",
      " 5   purpose         725 non-null    object \n",
      " 6   purpose_eval    726 non-null    float64\n",
      " 7   detail          726 non-null    float64\n",
      " 8   description     725 non-null    object \n",
      " 9   desc_eval_comp  726 non-null    int64  \n",
      " 10  desc_eval_elem  726 non-null    int64  \n",
      " 11  desc_eval_char  726 non-null    int64  \n",
      " 12  PQ1             726 non-null    int64  \n",
      " 13  ATT1            726 non-null    int64  \n",
      " 14  PQ2             726 non-null    int64  \n",
      " 15  HQ1             726 non-null    int64  \n",
      " 16  PQ3             726 non-null    int64  \n",
      " 17  HQ2             726 non-null    int64  \n",
      " 18  HQ3             726 non-null    int64  \n",
      " 19  ATT2            726 non-null    int64  \n",
      " 20  PQ4             726 non-null    int64  \n",
      " 21  HQ4             726 non-null    int64  \n",
      " 22  familiarity     726 non-null    bool   \n",
      "dtypes: bool(1), float64(4), int64(15), object(3)\n",
      "memory usage: 131.2+ KB\n"
     ]
    }
   ],
   "source": [
    "results.info()"
   ]
  },
  {
   "cell_type": "code",
   "execution_count": 4,
   "id": "fed231fe",
   "metadata": {},
   "outputs": [
    {
     "data": {
      "text/html": [
       "<div>\n",
       "<style scoped>\n",
       "    .dataframe tbody tr th:only-of-type {\n",
       "        vertical-align: middle;\n",
       "    }\n",
       "\n",
       "    .dataframe tbody tr th {\n",
       "        vertical-align: top;\n",
       "    }\n",
       "\n",
       "    .dataframe thead th {\n",
       "        text-align: right;\n",
       "    }\n",
       "</style>\n",
       "<table border=\"1\" class=\"dataframe\">\n",
       "  <thead>\n",
       "    <tr style=\"text-align: right;\">\n",
       "      <th></th>\n",
       "      <th>respondent</th>\n",
       "      <th>task</th>\n",
       "      <th>interval</th>\n",
       "      <th>time</th>\n",
       "      <th>company</th>\n",
       "      <th>purpose</th>\n",
       "      <th>purpose_eval</th>\n",
       "      <th>detail</th>\n",
       "      <th>description</th>\n",
       "      <th>desc_eval_comp</th>\n",
       "      <th>...</th>\n",
       "      <th>ATT1</th>\n",
       "      <th>PQ2</th>\n",
       "      <th>HQ1</th>\n",
       "      <th>PQ3</th>\n",
       "      <th>HQ2</th>\n",
       "      <th>HQ3</th>\n",
       "      <th>ATT2</th>\n",
       "      <th>PQ4</th>\n",
       "      <th>HQ4</th>\n",
       "      <th>familiarity</th>\n",
       "    </tr>\n",
       "  </thead>\n",
       "  <tbody>\n",
       "    <tr>\n",
       "      <th>0</th>\n",
       "      <td>3</td>\n",
       "      <td>1</td>\n",
       "      <td>2s</td>\n",
       "      <td>94.0</td>\n",
       "      <td>1.0</td>\n",
       "      <td>Clothing</td>\n",
       "      <td>1.0</td>\n",
       "      <td>0.0</td>\n",
       "      <td>There were pictures of people of different age...</td>\n",
       "      <td>1</td>\n",
       "      <td>...</td>\n",
       "      <td>7</td>\n",
       "      <td>7</td>\n",
       "      <td>6</td>\n",
       "      <td>6</td>\n",
       "      <td>5</td>\n",
       "      <td>6</td>\n",
       "      <td>7</td>\n",
       "      <td>7</td>\n",
       "      <td>7</td>\n",
       "      <td>False</td>\n",
       "    </tr>\n",
       "    <tr>\n",
       "      <th>1</th>\n",
       "      <td>3</td>\n",
       "      <td>2</td>\n",
       "      <td>2s</td>\n",
       "      <td>425.0</td>\n",
       "      <td>0.0</td>\n",
       "      <td>Glasses, contact lenses, sunglasses</td>\n",
       "      <td>1.0</td>\n",
       "      <td>0.0</td>\n",
       "      <td>Pictures of people smiling, some with sunglasses.</td>\n",
       "      <td>0</td>\n",
       "      <td>...</td>\n",
       "      <td>6</td>\n",
       "      <td>7</td>\n",
       "      <td>6</td>\n",
       "      <td>6</td>\n",
       "      <td>6</td>\n",
       "      <td>6</td>\n",
       "      <td>7</td>\n",
       "      <td>7</td>\n",
       "      <td>7</td>\n",
       "      <td>False</td>\n",
       "    </tr>\n",
       "    <tr>\n",
       "      <th>2</th>\n",
       "      <td>3</td>\n",
       "      <td>3</td>\n",
       "      <td>2s</td>\n",
       "      <td>73.0</td>\n",
       "      <td>1.0</td>\n",
       "      <td>Sport gear</td>\n",
       "      <td>1.0</td>\n",
       "      <td>0.0</td>\n",
       "      <td>There was a picture of a white leopard. There ...</td>\n",
       "      <td>1</td>\n",
       "      <td>...</td>\n",
       "      <td>7</td>\n",
       "      <td>7</td>\n",
       "      <td>6</td>\n",
       "      <td>5</td>\n",
       "      <td>6</td>\n",
       "      <td>6</td>\n",
       "      <td>7</td>\n",
       "      <td>7</td>\n",
       "      <td>6</td>\n",
       "      <td>False</td>\n",
       "    </tr>\n",
       "    <tr>\n",
       "      <th>3</th>\n",
       "      <td>3</td>\n",
       "      <td>4</td>\n",
       "      <td>2s</td>\n",
       "      <td>85.0</td>\n",
       "      <td>1.0</td>\n",
       "      <td>Information about the weather</td>\n",
       "      <td>1.0</td>\n",
       "      <td>0.0</td>\n",
       "      <td>There were lots of different weather forecasts...</td>\n",
       "      <td>1</td>\n",
       "      <td>...</td>\n",
       "      <td>7</td>\n",
       "      <td>7</td>\n",
       "      <td>6</td>\n",
       "      <td>7</td>\n",
       "      <td>5</td>\n",
       "      <td>6</td>\n",
       "      <td>7</td>\n",
       "      <td>7</td>\n",
       "      <td>6</td>\n",
       "      <td>False</td>\n",
       "    </tr>\n",
       "    <tr>\n",
       "      <th>4</th>\n",
       "      <td>3</td>\n",
       "      <td>5</td>\n",
       "      <td>2s</td>\n",
       "      <td>413.0</td>\n",
       "      <td>1.0</td>\n",
       "      <td>Pet supplies</td>\n",
       "      <td>1.0</td>\n",
       "      <td>1.0</td>\n",
       "      <td>There were different pictures of items for pets</td>\n",
       "      <td>0</td>\n",
       "      <td>...</td>\n",
       "      <td>5</td>\n",
       "      <td>6</td>\n",
       "      <td>4</td>\n",
       "      <td>5</td>\n",
       "      <td>4</td>\n",
       "      <td>5</td>\n",
       "      <td>6</td>\n",
       "      <td>6</td>\n",
       "      <td>4</td>\n",
       "      <td>False</td>\n",
       "    </tr>\n",
       "  </tbody>\n",
       "</table>\n",
       "<p>5 rows × 23 columns</p>\n",
       "</div>"
      ],
      "text/plain": [
       "   respondent  task interval   time  company  \\\n",
       "0           3     1       2s   94.0      1.0   \n",
       "1           3     2       2s  425.0      0.0   \n",
       "2           3     3       2s   73.0      1.0   \n",
       "3           3     4       2s   85.0      1.0   \n",
       "4           3     5       2s  413.0      1.0   \n",
       "\n",
       "                               purpose  purpose_eval  detail  \\\n",
       "0                             Clothing           1.0     0.0   \n",
       "1  Glasses, contact lenses, sunglasses           1.0     0.0   \n",
       "2                           Sport gear           1.0     0.0   \n",
       "3        Information about the weather           1.0     0.0   \n",
       "4                         Pet supplies           1.0     1.0   \n",
       "\n",
       "                                         description  desc_eval_comp  ...  \\\n",
       "0  There were pictures of people of different age...               1  ...   \n",
       "1  Pictures of people smiling, some with sunglasses.               0  ...   \n",
       "2  There was a picture of a white leopard. There ...               1  ...   \n",
       "3  There were lots of different weather forecasts...               1  ...   \n",
       "4    There were different pictures of items for pets               0  ...   \n",
       "\n",
       "   ATT1  PQ2  HQ1  PQ3  HQ2  HQ3  ATT2  PQ4  HQ4  familiarity  \n",
       "0     7    7    6    6    5    6     7    7    7        False  \n",
       "1     6    7    6    6    6    6     7    7    7        False  \n",
       "2     7    7    6    5    6    6     7    7    6        False  \n",
       "3     7    7    6    7    5    6     7    7    6        False  \n",
       "4     5    6    4    5    4    5     6    6    4        False  \n",
       "\n",
       "[5 rows x 23 columns]"
      ]
     },
     "execution_count": 4,
     "metadata": {},
     "output_type": "execute_result"
    }
   ],
   "source": [
    "results.head()"
   ]
  },
  {
   "cell_type": "markdown",
   "id": "05039303",
   "metadata": {},
   "source": [
    "**Add columns.**"
   ]
  },
  {
   "cell_type": "code",
   "execution_count": 5,
   "id": "6f305af9",
   "metadata": {},
   "outputs": [],
   "source": [
    "results.insert(22, 'ATT', '')\n",
    "results.insert(22, 'HQ', '')\n",
    "results.insert(22, 'PQ', '')\n",
    "results.insert(12, 'desc_eval_sum', '')\n",
    "results.insert(9, 'desc_word_count_group', '')\n",
    "results.insert(9, 'desc_word_count', '')\n",
    "results.insert(9, 'desc_token_count_group', '')\n",
    "results.insert(9, 'desc_token_count', '')\n",
    "results.insert(9, 'desc_tokens', '')\n",
    "results.insert(7, 'purpose_word_count', '')\n",
    "results.insert(7, 'purpose_token_count', '')\n",
    "results.insert(7, 'purpose_tokens', '')"
   ]
  },
  {
   "cell_type": "code",
   "execution_count": 6,
   "id": "23e3d1e9",
   "metadata": {},
   "outputs": [
    {
     "name": "stdout",
     "output_type": "stream",
     "text": [
      "<class 'pandas.core.frame.DataFrame'>\n",
      "Int64Index: 726 entries, 0 to 725\n",
      "Data columns (total 35 columns):\n",
      " #   Column                  Non-Null Count  Dtype  \n",
      "---  ------                  --------------  -----  \n",
      " 0   respondent              726 non-null    int64  \n",
      " 1   task                    726 non-null    int64  \n",
      " 2   interval                726 non-null    object \n",
      " 3   time                    726 non-null    float64\n",
      " 4   company                 726 non-null    float64\n",
      " 5   purpose                 725 non-null    object \n",
      " 6   purpose_eval            726 non-null    float64\n",
      " 7   purpose_tokens          726 non-null    object \n",
      " 8   purpose_token_count     726 non-null    object \n",
      " 9   purpose_word_count      726 non-null    object \n",
      " 10  detail                  726 non-null    float64\n",
      " 11  description             725 non-null    object \n",
      " 12  desc_tokens             726 non-null    object \n",
      " 13  desc_token_count        726 non-null    object \n",
      " 14  desc_token_count_group  726 non-null    object \n",
      " 15  desc_word_count         726 non-null    object \n",
      " 16  desc_word_count_group   726 non-null    object \n",
      " 17  desc_eval_comp          726 non-null    int64  \n",
      " 18  desc_eval_elem          726 non-null    int64  \n",
      " 19  desc_eval_char          726 non-null    int64  \n",
      " 20  desc_eval_sum           726 non-null    object \n",
      " 21  PQ1                     726 non-null    int64  \n",
      " 22  ATT1                    726 non-null    int64  \n",
      " 23  PQ2                     726 non-null    int64  \n",
      " 24  HQ1                     726 non-null    int64  \n",
      " 25  PQ3                     726 non-null    int64  \n",
      " 26  HQ2                     726 non-null    int64  \n",
      " 27  HQ3                     726 non-null    int64  \n",
      " 28  ATT2                    726 non-null    int64  \n",
      " 29  PQ4                     726 non-null    int64  \n",
      " 30  HQ4                     726 non-null    int64  \n",
      " 31  PQ                      726 non-null    object \n",
      " 32  HQ                      726 non-null    object \n",
      " 33  ATT                     726 non-null    object \n",
      " 34  familiarity             726 non-null    bool   \n",
      "dtypes: bool(1), float64(4), int64(15), object(15)\n",
      "memory usage: 199.2+ KB\n"
     ]
    }
   ],
   "source": [
    "results.info()"
   ]
  },
  {
   "cell_type": "markdown",
   "id": "955cd1b9",
   "metadata": {},
   "source": [
    "**Calculate number of words and number of full meaning words.**"
   ]
  },
  {
   "cell_type": "code",
   "execution_count": 7,
   "id": "bded280e",
   "metadata": {
    "scrolled": true
   },
   "outputs": [],
   "source": [
    "lemmatizer = WordNetLemmatizer()\n",
    "\n",
    "for index, row in results.iterrows():\n",
    "    if(type(row.description) == str):\n",
    "        tokens = word_tokenize(row.description.replace('/', ' ').replace('-', ' '))\n",
    "        tokens_no_punct = list(filter(lambda x: x.isalpha(), [word.lower() for word in tokens if word.isalpha()]))\n",
    "        tokens_no_stop = [word for word in tokens_no_punct if not word in stopwords.words()]\n",
    "        tokens_final = list(map(lambda x: lemmatizer.lemmatize(x), tokens_no_stop))\n",
    "        results.loc[index, 'desc_word_count'] = len(tokens_no_punct)\n",
    "        results.loc[index, 'desc_token_count'] = len(tokens_final)\n",
    "        results.loc[index, 'desc_tokens'] = ' '.join(tokens_final)\n",
    "    else:\n",
    "        results.loc[index, 'desc_word_count'] = 0\n",
    "        results.loc[index, 'desc_token_count'] = 0\n",
    "    if(type(row.purpose) == str):\n",
    "        tokens = word_tokenize(row.purpose.replace('/', ' ').replace('-', ' '))\n",
    "        tokens_no_punct = list(filter(lambda x: x.isalpha(), [word.lower() for word in tokens if word.isalpha()]))\n",
    "        tokens_no_stop = [word for word in tokens_no_punct if not word in stopwords.words()]\n",
    "        tokens_final = list(map(lambda x: lemmatizer.lemmatize(x), tokens_no_stop))\n",
    "        results.loc[index, 'purpose_word_count'] = len(tokens_no_punct)\n",
    "        results.loc[index, 'purpose_token_count'] = len(tokens_final)\n",
    "        results.loc[index, 'purpose_tokens'] = ' '.join(tokens_final)\n",
    "    else:\n",
    "        results.loc[index, 'purpose_word_count'] = 0\n",
    "        results.loc[index, 'purpose_token_count'] = 0"
   ]
  },
  {
   "cell_type": "code",
   "execution_count": 8,
   "id": "8c73f2b8",
   "metadata": {},
   "outputs": [
    {
     "data": {
      "text/plain": [
       "Index(['respondent', 'task', 'interval', 'time', 'company', 'purpose',\n",
       "       'purpose_eval', 'purpose_tokens', 'purpose_token_count',\n",
       "       'purpose_word_count', 'detail', 'description', 'desc_tokens',\n",
       "       'desc_token_count', 'desc_token_count_group', 'desc_word_count',\n",
       "       'desc_word_count_group', 'desc_eval_comp', 'desc_eval_elem',\n",
       "       'desc_eval_char', 'desc_eval_sum', 'PQ1', 'ATT1', 'PQ2', 'HQ1', 'PQ3',\n",
       "       'HQ2', 'HQ3', 'ATT2', 'PQ4', 'HQ4', 'PQ', 'HQ', 'ATT', 'familiarity'],\n",
       "      dtype='object')"
      ]
     },
     "execution_count": 8,
     "metadata": {},
     "output_type": "execute_result"
    }
   ],
   "source": [
    "results.columns"
   ]
  },
  {
   "cell_type": "code",
   "execution_count": 9,
   "id": "bbcdaba3",
   "metadata": {},
   "outputs": [
    {
     "data": {
      "text/plain": [
       "desc_word_count_group\n",
       "high    239\n",
       "low     244\n",
       "med     243\n",
       "dtype: int64"
      ]
     },
     "execution_count": 9,
     "metadata": {},
     "output_type": "execute_result"
    }
   ],
   "source": [
    "results.loc[results.desc_word_count <= 11, 'desc_word_count_group'] = 'low' \n",
    "results.loc[(results.desc_word_count > 11) & (results.desc_word_count < 24), 'desc_word_count_group'] = 'med' \n",
    "results.loc[results.desc_word_count >= 24, 'desc_word_count_group'] = 'high' \n",
    "results.groupby('desc_word_count_group').size()"
   ]
  },
  {
   "cell_type": "code",
   "execution_count": 10,
   "id": "4c201989",
   "metadata": {},
   "outputs": [
    {
     "data": {
      "text/plain": [
       "desc_token_count_group\n",
       "high    207\n",
       "low     216\n",
       "med     303\n",
       "dtype: int64"
      ]
     },
     "execution_count": 10,
     "metadata": {},
     "output_type": "execute_result"
    }
   ],
   "source": [
    "results.loc[results.desc_token_count <= 5, 'desc_token_count_group'] = 'low' \n",
    "results.loc[(results.desc_token_count > 5) & (results.desc_token_count < 13), 'desc_token_count_group'] = 'med' \n",
    "results.loc[results.desc_token_count >= 13, 'desc_token_count_group'] = 'high' \n",
    "results.groupby('desc_token_count_group').size()"
   ]
  },
  {
   "cell_type": "markdown",
   "id": "758997c7",
   "metadata": {},
   "source": [
    "**Remove unecessary columns.**"
   ]
  },
  {
   "cell_type": "code",
   "execution_count": 11,
   "id": "c058760a",
   "metadata": {},
   "outputs": [],
   "source": [
    "results.purpose = results.purpose_eval"
   ]
  },
  {
   "cell_type": "code",
   "execution_count": 12,
   "id": "438688ec",
   "metadata": {},
   "outputs": [],
   "source": [
    "results = results.drop(columns={\n",
    "    'description', 'purpose_eval'\n",
    "})"
   ]
  },
  {
   "cell_type": "code",
   "execution_count": 13,
   "id": "46356c73",
   "metadata": {},
   "outputs": [
    {
     "data": {
      "text/html": [
       "<div>\n",
       "<style scoped>\n",
       "    .dataframe tbody tr th:only-of-type {\n",
       "        vertical-align: middle;\n",
       "    }\n",
       "\n",
       "    .dataframe tbody tr th {\n",
       "        vertical-align: top;\n",
       "    }\n",
       "\n",
       "    .dataframe thead th {\n",
       "        text-align: right;\n",
       "    }\n",
       "</style>\n",
       "<table border=\"1\" class=\"dataframe\">\n",
       "  <thead>\n",
       "    <tr style=\"text-align: right;\">\n",
       "      <th></th>\n",
       "      <th>respondent</th>\n",
       "      <th>task</th>\n",
       "      <th>interval</th>\n",
       "      <th>time</th>\n",
       "      <th>company</th>\n",
       "      <th>purpose</th>\n",
       "      <th>purpose_tokens</th>\n",
       "      <th>purpose_token_count</th>\n",
       "      <th>purpose_word_count</th>\n",
       "      <th>detail</th>\n",
       "      <th>...</th>\n",
       "      <th>PQ3</th>\n",
       "      <th>HQ2</th>\n",
       "      <th>HQ3</th>\n",
       "      <th>ATT2</th>\n",
       "      <th>PQ4</th>\n",
       "      <th>HQ4</th>\n",
       "      <th>PQ</th>\n",
       "      <th>HQ</th>\n",
       "      <th>ATT</th>\n",
       "      <th>familiarity</th>\n",
       "    </tr>\n",
       "  </thead>\n",
       "  <tbody>\n",
       "    <tr>\n",
       "      <th>0</th>\n",
       "      <td>3</td>\n",
       "      <td>1</td>\n",
       "      <td>2s</td>\n",
       "      <td>94.0</td>\n",
       "      <td>1.0</td>\n",
       "      <td>1.0</td>\n",
       "      <td>clothing</td>\n",
       "      <td>1</td>\n",
       "      <td>1</td>\n",
       "      <td>0.0</td>\n",
       "      <td>...</td>\n",
       "      <td>6</td>\n",
       "      <td>5</td>\n",
       "      <td>6</td>\n",
       "      <td>7</td>\n",
       "      <td>7</td>\n",
       "      <td>7</td>\n",
       "      <td></td>\n",
       "      <td></td>\n",
       "      <td></td>\n",
       "      <td>False</td>\n",
       "    </tr>\n",
       "    <tr>\n",
       "      <th>1</th>\n",
       "      <td>3</td>\n",
       "      <td>2</td>\n",
       "      <td>2s</td>\n",
       "      <td>425.0</td>\n",
       "      <td>0.0</td>\n",
       "      <td>1.0</td>\n",
       "      <td>glass contact lens sunglass</td>\n",
       "      <td>4</td>\n",
       "      <td>4</td>\n",
       "      <td>0.0</td>\n",
       "      <td>...</td>\n",
       "      <td>6</td>\n",
       "      <td>6</td>\n",
       "      <td>6</td>\n",
       "      <td>7</td>\n",
       "      <td>7</td>\n",
       "      <td>7</td>\n",
       "      <td></td>\n",
       "      <td></td>\n",
       "      <td></td>\n",
       "      <td>False</td>\n",
       "    </tr>\n",
       "    <tr>\n",
       "      <th>2</th>\n",
       "      <td>3</td>\n",
       "      <td>3</td>\n",
       "      <td>2s</td>\n",
       "      <td>73.0</td>\n",
       "      <td>1.0</td>\n",
       "      <td>1.0</td>\n",
       "      <td>sport gear</td>\n",
       "      <td>2</td>\n",
       "      <td>2</td>\n",
       "      <td>0.0</td>\n",
       "      <td>...</td>\n",
       "      <td>5</td>\n",
       "      <td>6</td>\n",
       "      <td>6</td>\n",
       "      <td>7</td>\n",
       "      <td>7</td>\n",
       "      <td>6</td>\n",
       "      <td></td>\n",
       "      <td></td>\n",
       "      <td></td>\n",
       "      <td>False</td>\n",
       "    </tr>\n",
       "    <tr>\n",
       "      <th>3</th>\n",
       "      <td>3</td>\n",
       "      <td>4</td>\n",
       "      <td>2s</td>\n",
       "      <td>85.0</td>\n",
       "      <td>1.0</td>\n",
       "      <td>1.0</td>\n",
       "      <td>information weather</td>\n",
       "      <td>2</td>\n",
       "      <td>4</td>\n",
       "      <td>0.0</td>\n",
       "      <td>...</td>\n",
       "      <td>7</td>\n",
       "      <td>5</td>\n",
       "      <td>6</td>\n",
       "      <td>7</td>\n",
       "      <td>7</td>\n",
       "      <td>6</td>\n",
       "      <td></td>\n",
       "      <td></td>\n",
       "      <td></td>\n",
       "      <td>False</td>\n",
       "    </tr>\n",
       "    <tr>\n",
       "      <th>4</th>\n",
       "      <td>3</td>\n",
       "      <td>5</td>\n",
       "      <td>2s</td>\n",
       "      <td>413.0</td>\n",
       "      <td>1.0</td>\n",
       "      <td>1.0</td>\n",
       "      <td>supply</td>\n",
       "      <td>1</td>\n",
       "      <td>2</td>\n",
       "      <td>1.0</td>\n",
       "      <td>...</td>\n",
       "      <td>5</td>\n",
       "      <td>4</td>\n",
       "      <td>5</td>\n",
       "      <td>6</td>\n",
       "      <td>6</td>\n",
       "      <td>4</td>\n",
       "      <td></td>\n",
       "      <td></td>\n",
       "      <td></td>\n",
       "      <td>False</td>\n",
       "    </tr>\n",
       "  </tbody>\n",
       "</table>\n",
       "<p>5 rows × 33 columns</p>\n",
       "</div>"
      ],
      "text/plain": [
       "   respondent  task interval   time  company  purpose  \\\n",
       "0           3     1       2s   94.0      1.0      1.0   \n",
       "1           3     2       2s  425.0      0.0      1.0   \n",
       "2           3     3       2s   73.0      1.0      1.0   \n",
       "3           3     4       2s   85.0      1.0      1.0   \n",
       "4           3     5       2s  413.0      1.0      1.0   \n",
       "\n",
       "                purpose_tokens purpose_token_count purpose_word_count  detail  \\\n",
       "0                     clothing                   1                  1     0.0   \n",
       "1  glass contact lens sunglass                   4                  4     0.0   \n",
       "2                   sport gear                   2                  2     0.0   \n",
       "3          information weather                   2                  4     0.0   \n",
       "4                       supply                   1                  2     1.0   \n",
       "\n",
       "   ... PQ3 HQ2 HQ3 ATT2 PQ4  HQ4  PQ  HQ ATT  familiarity  \n",
       "0  ...   6   5   6    7   7    7                    False  \n",
       "1  ...   6   6   6    7   7    7                    False  \n",
       "2  ...   5   6   6    7   7    6                    False  \n",
       "3  ...   7   5   6    7   7    6                    False  \n",
       "4  ...   5   4   5    6   6    4                    False  \n",
       "\n",
       "[5 rows x 33 columns]"
      ]
     },
     "execution_count": 13,
     "metadata": {},
     "output_type": "execute_result"
    }
   ],
   "source": [
    "results.head()"
   ]
  },
  {
   "cell_type": "markdown",
   "id": "7377daf1",
   "metadata": {},
   "source": [
    "**Means of Attrak-Diff results.**"
   ]
  },
  {
   "cell_type": "code",
   "execution_count": 14,
   "id": "7a346a9a",
   "metadata": {},
   "outputs": [],
   "source": [
    "results['PQ'] = (results.PQ1 + results.PQ2 + results.PQ3 + results.PQ4) / 4\n",
    "results['HQ'] = (results.HQ1 + results.HQ2 + results.HQ3 + results.HQ4) / 4\n",
    "results['ATT'] = (results.ATT1 + results.ATT2) / 2"
   ]
  },
  {
   "cell_type": "markdown",
   "id": "931b913e",
   "metadata": {},
   "source": [
    "**Sum of webpage elements and characteristics.**"
   ]
  },
  {
   "cell_type": "code",
   "execution_count": 15,
   "id": "4ac77988",
   "metadata": {},
   "outputs": [],
   "source": [
    "results['desc_eval_sum'] = results['desc_eval_elem'] + results['desc_eval_char']"
   ]
  },
  {
   "cell_type": "code",
   "execution_count": 16,
   "id": "4ed0d6a9",
   "metadata": {},
   "outputs": [
    {
     "data": {
      "text/plain": [
       "Index(['respondent', 'task', 'interval', 'time', 'company', 'purpose',\n",
       "       'purpose_tokens', 'purpose_token_count', 'purpose_word_count', 'detail',\n",
       "       'desc_tokens', 'desc_token_count', 'desc_token_count_group',\n",
       "       'desc_word_count', 'desc_word_count_group', 'desc_eval_comp',\n",
       "       'desc_eval_elem', 'desc_eval_char', 'desc_eval_sum', 'PQ1', 'ATT1',\n",
       "       'PQ2', 'HQ1', 'PQ3', 'HQ2', 'HQ3', 'ATT2', 'PQ4', 'HQ4', 'PQ', 'HQ',\n",
       "       'ATT', 'familiarity'],\n",
       "      dtype='object')"
      ]
     },
     "execution_count": 16,
     "metadata": {},
     "output_type": "execute_result"
    }
   ],
   "source": [
    "results.columns"
   ]
  },
  {
   "cell_type": "markdown",
   "id": "a57de7e1",
   "metadata": {},
   "source": [
    "**Replace faulty results.**"
   ]
  },
  {
   "cell_type": "code",
   "execution_count": 17,
   "id": "b8032eb7",
   "metadata": {},
   "outputs": [],
   "source": [
    "for i in range(1, 7):\n",
    "    results.loc[i + 677, 'time'] = np.floor(results[results.task == i].time.mean())"
   ]
  },
  {
   "cell_type": "markdown",
   "id": "b9a75321",
   "metadata": {},
   "source": [
    "**Insert design complexities.**"
   ]
  },
  {
   "cell_type": "code",
   "execution_count": 18,
   "id": "ef436e74",
   "metadata": {},
   "outputs": [],
   "source": [
    "complexities = {\n",
    "    1: 0.22,\n",
    "    2: 2,\n",
    "    3: 2.97,\n",
    "    4: 5.27,\n",
    "    5: 7.5,\n",
    "    6: 8\n",
    "}"
   ]
  },
  {
   "cell_type": "code",
   "execution_count": 19,
   "id": "7045dbad",
   "metadata": {},
   "outputs": [],
   "source": [
    "results.insert(2, 'complexity', 0)\n",
    "for index, row  in results.iterrows():\n",
    "    results.loc[index, 'complexity'] = complexities[row.task]"
   ]
  },
  {
   "cell_type": "markdown",
   "id": "e1c2cf8f",
   "metadata": {},
   "source": [
    "**Remove respondent 40**"
   ]
  },
  {
   "cell_type": "code",
   "execution_count": 20,
   "id": "9eaa66e2",
   "metadata": {},
   "outputs": [],
   "source": [
    "results = results[(results.respondent != 40) | (results.interval != '2s')]"
   ]
  },
  {
   "cell_type": "markdown",
   "id": "c4a6adda",
   "metadata": {},
   "source": [
    "**Export.**"
   ]
  },
  {
   "cell_type": "code",
   "execution_count": 21,
   "id": "a88bae03",
   "metadata": {},
   "outputs": [],
   "source": [
    "results.to_csv(\"../data/results.csv\")"
   ]
  },
  {
   "cell_type": "markdown",
   "id": "e2137d08",
   "metadata": {},
   "source": [
    "## Respondent cognitive tests calculations"
   ]
  },
  {
   "cell_type": "markdown",
   "id": "9bd187c4",
   "metadata": {},
   "source": [
    "**Load data.**"
   ]
  },
  {
   "cell_type": "code",
   "execution_count": 22,
   "id": "677705cf",
   "metadata": {},
   "outputs": [],
   "source": [
    "respondents = pd.read_csv(\"../data/respondents_to_calculate.csv\", index_col=0)"
   ]
  },
  {
   "cell_type": "markdown",
   "id": "171036a3",
   "metadata": {},
   "source": [
    "**Remove respondents that did not finish and respondent 40**"
   ]
  },
  {
   "cell_type": "code",
   "execution_count": 23,
   "id": "cfca8d9e",
   "metadata": {},
   "outputs": [],
   "source": [
    "respondents = respondents[(respondents.status == 'completed')]"
   ]
  },
  {
   "cell_type": "code",
   "execution_count": 24,
   "id": "164efb83",
   "metadata": {},
   "outputs": [],
   "source": [
    "respondents = respondents[(respondents.respondent != 40) | (respondents.interval != '2s')]"
   ]
  },
  {
   "cell_type": "code",
   "execution_count": 25,
   "id": "012594d9",
   "metadata": {},
   "outputs": [
    {
     "data": {
      "text/plain": [
       "(120, 31)"
      ]
     },
     "execution_count": 25,
     "metadata": {},
     "output_type": "execute_result"
    }
   ],
   "source": [
    "respondents.shape"
   ]
  },
  {
   "cell_type": "code",
   "execution_count": 26,
   "id": "633aa27e",
   "metadata": {},
   "outputs": [
    {
     "data": {
      "text/plain": [
       "Index(['respondent', 'identifier', 'status', 'included', 'started_at', 'ip',\n",
       "       'device', 'os', 'browser', 'location', 'time_taken',\n",
       "       'questions_answered', 'tasks_completed', 'tasks_skipped', 'vmt_levels',\n",
       "       'vmt_clicks', 'pst_levels', 'pst_levels_correct', 'pst_clicks',\n",
       "       'input_device', 'age', 'gender', 'education', 'income', 'web_browsing',\n",
       "       'web_skill', 'att_check_1', 'similar_studies', 'note', 'att_check_2',\n",
       "       'interval'],\n",
       "      dtype='object')"
      ]
     },
     "execution_count": 26,
     "metadata": {},
     "output_type": "execute_result"
    }
   ],
   "source": [
    "respondents.columns"
   ]
  },
  {
   "cell_type": "code",
   "execution_count": 27,
   "id": "b9391843",
   "metadata": {},
   "outputs": [],
   "source": [
    "respondents.insert(19, 'pst_press_speed', 0)\n",
    "respondents.insert(18, 'pst_levels_correct_group', 0)\n",
    "respondents.insert(17, 'pst_mistakes_group', '')\n",
    "respondents.insert(17, 'pst_mistakes', 0)\n",
    "respondents.insert(17, 'pst_levels_group', '')\n",
    "respondents.insert(16, 'vmt_press_len_group', '')\n",
    "respondents.insert(16, 'vmt_press_len', 0)\n",
    "respondents.insert(16, 'vmt_click_speed_group', '')\n",
    "respondents.insert(16, 'vmt_click_speed', 0)\n",
    "respondents.insert(15, 'vmt_levels_group', '')"
   ]
  },
  {
   "cell_type": "markdown",
   "id": "c254dbd8",
   "metadata": {},
   "source": [
    "**Calculate press lengths and click speeds.**"
   ]
  },
  {
   "cell_type": "code",
   "execution_count": 28,
   "id": "252031c3",
   "metadata": {},
   "outputs": [],
   "source": [
    "for index, respondent in respondents.iterrows():\n",
    "    if(type(respondent.vmt_clicks) == str):\n",
    "        levels = json.loads(respondent.vmt_clicks)\n",
    "        sum_time = 0\n",
    "        sum_press_time = 0\n",
    "        clicks = 0\n",
    "        between_clicks = 0\n",
    "        for level in levels:\n",
    "            last_time = 0\n",
    "            for click in level:\n",
    "                if(click['type']=='mouseDown'):\n",
    "                    sum_time += (click['time'] - last_time) if last_time != 0 else 0\n",
    "                    clicks += 1\n",
    "                    between_clicks += 1 if last_time != 0 else 0\n",
    "                    last_time = click['time']\n",
    "                if(click['type']=='mouseUp'):\n",
    "                    sum_press_time += (click['time'] - last_time)\n",
    "        \n",
    "        respondents.loc[index, 'vmt_click_speed'] = (between_clicks / sum_time ) * 1000\n",
    "        respondents.loc[index, 'vmt_press_len'] = sum_press_time / clicks"
   ]
  },
  {
   "cell_type": "code",
   "execution_count": 29,
   "id": "cf7d980f",
   "metadata": {},
   "outputs": [],
   "source": [
    "for index, respondent in respondents.iterrows():\n",
    "    if(type(respondent.pst_clicks) == str):\n",
    "        presses = json.loads(respondent.pst_clicks)\n",
    "        sum_time = presses[len(presses) - 1] - presses[0]\n",
    "        respondents.loc[index, 'pst_press_speed'] = (len(presses) / sum_time ) * 1000"
   ]
  },
  {
   "cell_type": "markdown",
   "id": "c204ba8c",
   "metadata": {},
   "source": [
    "**Assign groups according to cognitive tasks**"
   ]
  },
  {
   "cell_type": "code",
   "execution_count": 30,
   "id": "fde779ec",
   "metadata": {},
   "outputs": [],
   "source": [
    "respondents['pst_mistakes'] = respondents['pst_levels'] - respondents['pst_levels_correct']\n",
    "respondents['pst_mistakes'] = respondents['pst_mistakes']"
   ]
  },
  {
   "cell_type": "code",
   "execution_count": 31,
   "id": "85aa365d",
   "metadata": {},
   "outputs": [
    {
     "data": {
      "text/plain": [
       "vmt_levels_group\n",
       "high    30\n",
       "low     29\n",
       "med     61\n",
       "dtype: int64"
      ]
     },
     "execution_count": 31,
     "metadata": {},
     "output_type": "execute_result"
    }
   ],
   "source": [
    "respondents.loc[respondents.vmt_levels <= 5, 'vmt_levels_group'] = 'low' \n",
    "respondents.loc[(respondents.vmt_levels > 5) & (respondents.vmt_levels < 8), 'vmt_levels_group'] = 'med' \n",
    "respondents.loc[respondents.vmt_levels >= 8, 'vmt_levels_group'] = 'high' \n",
    "respondents.groupby('vmt_levels_group').size()"
   ]
  },
  {
   "cell_type": "code",
   "execution_count": 32,
   "id": "29854189",
   "metadata": {},
   "outputs": [
    {
     "data": {
      "text/plain": [
       "pst_levels_group\n",
       "high    40\n",
       "low     36\n",
       "med     44\n",
       "dtype: int64"
      ]
     },
     "execution_count": 32,
     "metadata": {},
     "output_type": "execute_result"
    }
   ],
   "source": [
    "respondents.loc[respondents.pst_levels <= 30, 'pst_levels_group'] = 'low' \n",
    "respondents.loc[(respondents.pst_levels > 30) & (respondents.pst_levels < 38), 'pst_levels_group'] = 'med' \n",
    "respondents.loc[respondents.pst_levels >= 38, 'pst_levels_group'] = 'high' \n",
    "respondents.groupby('pst_levels_group').size()"
   ]
  },
  {
   "cell_type": "code",
   "execution_count": 33,
   "id": "7b1ae5e0",
   "metadata": {},
   "outputs": [
    {
     "data": {
      "text/plain": [
       "pst_levels_correct_group\n",
       "high    35\n",
       "low     36\n",
       "med     49\n",
       "dtype: int64"
      ]
     },
     "execution_count": 33,
     "metadata": {},
     "output_type": "execute_result"
    }
   ],
   "source": [
    "respondents.loc[respondents.pst_levels_correct <= 27, 'pst_levels_correct_group'] = 'low' \n",
    "respondents.loc[(respondents.pst_levels_correct > 27) & (respondents.pst_levels_correct < 36), 'pst_levels_correct_group'] = 'med' \n",
    "respondents.loc[respondents.pst_levels_correct >= 36, 'pst_levels_correct_group'] = 'high' \n",
    "respondents.groupby('pst_levels_correct_group').size()"
   ]
  },
  {
   "cell_type": "code",
   "execution_count": 34,
   "id": "0c334ef7",
   "metadata": {},
   "outputs": [
    {
     "data": {
      "text/plain": [
       "pst_mistakes_group\n",
       "high    36\n",
       "low     27\n",
       "med     57\n",
       "dtype: int64"
      ]
     },
     "execution_count": 34,
     "metadata": {},
     "output_type": "execute_result"
    }
   ],
   "source": [
    "respondents.loc[respondents.pst_mistakes <= 0, 'pst_mistakes_group'] = 'low' \n",
    "respondents.loc[(respondents.pst_mistakes > 0) & (respondents.pst_mistakes < 3), 'pst_mistakes_group'] = 'med' \n",
    "respondents.loc[respondents.pst_mistakes >= 3, 'pst_mistakes_group'] = 'high' \n",
    "respondents.groupby('pst_mistakes_group').size()"
   ]
  },
  {
   "cell_type": "code",
   "execution_count": 35,
   "id": "5e8abfde",
   "metadata": {},
   "outputs": [
    {
     "data": {
      "text/plain": [
       "vmt_click_speed_group\n",
       "high    40\n",
       "low     40\n",
       "med     40\n",
       "dtype: int64"
      ]
     },
     "execution_count": 35,
     "metadata": {},
     "output_type": "execute_result"
    }
   ],
   "source": [
    "respondents.loc[respondents.vmt_click_speed <= 1.34, 'vmt_click_speed_group'] = 'low' \n",
    "respondents.loc[(respondents.vmt_click_speed > 1.34) & (respondents.vmt_click_speed < 1.7), 'vmt_click_speed_group'] = 'med' \n",
    "respondents.loc[respondents.vmt_click_speed >= 1.7, 'vmt_click_speed_group'] = 'high' \n",
    "respondents.groupby('vmt_click_speed_group').size()"
   ]
  },
  {
   "cell_type": "code",
   "execution_count": 36,
   "id": "4de2bca1",
   "metadata": {},
   "outputs": [
    {
     "data": {
      "text/plain": [
       "vmt_press_len_group\n",
       "high    39\n",
       "low     40\n",
       "med     41\n",
       "dtype: int64"
      ]
     },
     "execution_count": 36,
     "metadata": {},
     "output_type": "execute_result"
    }
   ],
   "source": [
    "respondents.loc[respondents.vmt_press_len <= 82.3, 'vmt_press_len_group'] = 'low' \n",
    "respondents.loc[(respondents.vmt_press_len > 82.3) & (respondents.vmt_press_len < 112), 'vmt_press_len_group'] = 'med' \n",
    "respondents.loc[respondents.vmt_press_len >= 112, 'vmt_press_len_group'] = 'high' \n",
    "respondents.groupby('vmt_press_len_group').size()"
   ]
  },
  {
   "cell_type": "markdown",
   "id": "24945637",
   "metadata": {},
   "source": [
    "**Remove uneccessary columns.**"
   ]
  },
  {
   "cell_type": "code",
   "execution_count": 37,
   "id": "fdead4ab",
   "metadata": {},
   "outputs": [],
   "source": [
    "respondents = respondents.drop(columns={\n",
    "    'vmt_clicks', 'pst_clicks'\n",
    "})"
   ]
  },
  {
   "cell_type": "code",
   "execution_count": 38,
   "id": "fa76f28e",
   "metadata": {},
   "outputs": [
    {
     "data": {
      "text/plain": [
       "Index(['respondent', 'identifier', 'status', 'included', 'started_at', 'ip',\n",
       "       'device', 'os', 'browser', 'location', 'time_taken',\n",
       "       'questions_answered', 'tasks_completed', 'tasks_skipped', 'vmt_levels',\n",
       "       'vmt_levels_group', 'vmt_click_speed', 'vmt_click_speed_group',\n",
       "       'vmt_press_len', 'vmt_press_len_group', 'pst_levels',\n",
       "       'pst_levels_group', 'pst_mistakes', 'pst_mistakes_group',\n",
       "       'pst_levels_correct', 'pst_levels_correct_group', 'pst_press_speed',\n",
       "       'input_device', 'age', 'gender', 'education', 'income', 'web_browsing',\n",
       "       'web_skill', 'att_check_1', 'similar_studies', 'note', 'att_check_2',\n",
       "       'interval'],\n",
       "      dtype='object')"
      ]
     },
     "execution_count": 38,
     "metadata": {},
     "output_type": "execute_result"
    }
   ],
   "source": [
    "respondents.columns"
   ]
  },
  {
   "cell_type": "code",
   "execution_count": 39,
   "id": "c1ed723b",
   "metadata": {},
   "outputs": [
    {
     "data": {
      "text/html": [
       "<div>\n",
       "<style scoped>\n",
       "    .dataframe tbody tr th:only-of-type {\n",
       "        vertical-align: middle;\n",
       "    }\n",
       "\n",
       "    .dataframe tbody tr th {\n",
       "        vertical-align: top;\n",
       "    }\n",
       "\n",
       "    .dataframe thead th {\n",
       "        text-align: right;\n",
       "    }\n",
       "</style>\n",
       "<table border=\"1\" class=\"dataframe\">\n",
       "  <thead>\n",
       "    <tr style=\"text-align: right;\">\n",
       "      <th></th>\n",
       "      <th>respondent</th>\n",
       "      <th>identifier</th>\n",
       "      <th>status</th>\n",
       "      <th>included</th>\n",
       "      <th>started_at</th>\n",
       "      <th>ip</th>\n",
       "      <th>device</th>\n",
       "      <th>os</th>\n",
       "      <th>browser</th>\n",
       "      <th>location</th>\n",
       "      <th>...</th>\n",
       "      <th>gender</th>\n",
       "      <th>education</th>\n",
       "      <th>income</th>\n",
       "      <th>web_browsing</th>\n",
       "      <th>web_skill</th>\n",
       "      <th>att_check_1</th>\n",
       "      <th>similar_studies</th>\n",
       "      <th>note</th>\n",
       "      <th>att_check_2</th>\n",
       "      <th>interval</th>\n",
       "    </tr>\n",
       "  </thead>\n",
       "  <tbody>\n",
       "    <tr>\n",
       "      <th>0</th>\n",
       "      <td>3</td>\n",
       "      <td>NaN</td>\n",
       "      <td>completed</td>\n",
       "      <td>True</td>\n",
       "      <td>2022-09-30 14:21:47</td>\n",
       "      <td>NaN</td>\n",
       "      <td>desktop</td>\n",
       "      <td>Windows</td>\n",
       "      <td>Edge</td>\n",
       "      <td>GB</td>\n",
       "      <td>...</td>\n",
       "      <td>Woman</td>\n",
       "      <td>Undergraduate degree</td>\n",
       "      <td>£10,000 - £19,999</td>\n",
       "      <td>Few times a day</td>\n",
       "      <td>3.0</td>\n",
       "      <td>Salad</td>\n",
       "      <td>Yes, I've done studies where I've completed a ...</td>\n",
       "      <td>NaN</td>\n",
       "      <td>30.0</td>\n",
       "      <td>2s</td>\n",
       "    </tr>\n",
       "    <tr>\n",
       "      <th>1</th>\n",
       "      <td>4</td>\n",
       "      <td>NaN</td>\n",
       "      <td>completed</td>\n",
       "      <td>True</td>\n",
       "      <td>2022-09-30 14:22:50</td>\n",
       "      <td>NaN</td>\n",
       "      <td>desktop</td>\n",
       "      <td>OS X</td>\n",
       "      <td>Safari</td>\n",
       "      <td>GB</td>\n",
       "      <td>...</td>\n",
       "      <td>Man</td>\n",
       "      <td>Graduate degree</td>\n",
       "      <td>£30,000 - £39,999</td>\n",
       "      <td>Most of the day</td>\n",
       "      <td>5.0</td>\n",
       "      <td>Salad</td>\n",
       "      <td>NaN</td>\n",
       "      <td>NaN</td>\n",
       "      <td>30.0</td>\n",
       "      <td>2s</td>\n",
       "    </tr>\n",
       "    <tr>\n",
       "      <th>2</th>\n",
       "      <td>5</td>\n",
       "      <td>NaN</td>\n",
       "      <td>completed</td>\n",
       "      <td>True</td>\n",
       "      <td>2022-09-30 14:26:56</td>\n",
       "      <td>NaN</td>\n",
       "      <td>desktop</td>\n",
       "      <td>Windows</td>\n",
       "      <td>Chrome</td>\n",
       "      <td>GB</td>\n",
       "      <td>...</td>\n",
       "      <td>Man</td>\n",
       "      <td>Technical/community college</td>\n",
       "      <td>£20,000 - £29,999</td>\n",
       "      <td>Few times a day</td>\n",
       "      <td>5.0</td>\n",
       "      <td>Salad</td>\n",
       "      <td>yes but not the same</td>\n",
       "      <td>no thanks</td>\n",
       "      <td>30.0</td>\n",
       "      <td>2s</td>\n",
       "    </tr>\n",
       "    <tr>\n",
       "      <th>4</th>\n",
       "      <td>7</td>\n",
       "      <td>NaN</td>\n",
       "      <td>completed</td>\n",
       "      <td>True</td>\n",
       "      <td>2022-10-06 12:51:06</td>\n",
       "      <td>NaN</td>\n",
       "      <td>desktop</td>\n",
       "      <td>OS X</td>\n",
       "      <td>Chrome</td>\n",
       "      <td>GB</td>\n",
       "      <td>...</td>\n",
       "      <td>Woman</td>\n",
       "      <td>Technical/community college</td>\n",
       "      <td>£10,000 - £19,999</td>\n",
       "      <td>Most of the day</td>\n",
       "      <td>4.0</td>\n",
       "      <td>Salad</td>\n",
       "      <td>I don't think so.</td>\n",
       "      <td>NaN</td>\n",
       "      <td>30.0</td>\n",
       "      <td>2s</td>\n",
       "    </tr>\n",
       "    <tr>\n",
       "      <th>5</th>\n",
       "      <td>8</td>\n",
       "      <td>NaN</td>\n",
       "      <td>completed</td>\n",
       "      <td>True</td>\n",
       "      <td>2022-10-06 12:57:21</td>\n",
       "      <td>NaN</td>\n",
       "      <td>desktop</td>\n",
       "      <td>Windows</td>\n",
       "      <td>Chrome</td>\n",
       "      <td>GB</td>\n",
       "      <td>...</td>\n",
       "      <td>Woman</td>\n",
       "      <td>Undergraduate degree</td>\n",
       "      <td>£0 - £10,000</td>\n",
       "      <td>Most of the day</td>\n",
       "      <td>3.0</td>\n",
       "      <td>Salad</td>\n",
       "      <td>No</td>\n",
       "      <td>No</td>\n",
       "      <td>30.0</td>\n",
       "      <td>2s</td>\n",
       "    </tr>\n",
       "  </tbody>\n",
       "</table>\n",
       "<p>5 rows × 39 columns</p>\n",
       "</div>"
      ],
      "text/plain": [
       "   respondent  identifier     status  included           started_at  ip  \\\n",
       "0           3         NaN  completed      True  2022-09-30 14:21:47 NaN   \n",
       "1           4         NaN  completed      True  2022-09-30 14:22:50 NaN   \n",
       "2           5         NaN  completed      True  2022-09-30 14:26:56 NaN   \n",
       "4           7         NaN  completed      True  2022-10-06 12:51:06 NaN   \n",
       "5           8         NaN  completed      True  2022-10-06 12:57:21 NaN   \n",
       "\n",
       "    device       os browser location  ...  gender  \\\n",
       "0  desktop  Windows    Edge       GB  ...   Woman   \n",
       "1  desktop     OS X  Safari       GB  ...     Man   \n",
       "2  desktop  Windows  Chrome       GB  ...     Man   \n",
       "4  desktop     OS X  Chrome       GB  ...   Woman   \n",
       "5  desktop  Windows  Chrome       GB  ...   Woman   \n",
       "\n",
       "                     education             income     web_browsing  web_skill  \\\n",
       "0         Undergraduate degree  £10,000 - £19,999  Few times a day        3.0   \n",
       "1              Graduate degree  £30,000 - £39,999  Most of the day        5.0   \n",
       "2  Technical/community college  £20,000 - £29,999  Few times a day        5.0   \n",
       "4  Technical/community college  £10,000 - £19,999  Most of the day        4.0   \n",
       "5         Undergraduate degree       £0 - £10,000  Most of the day        3.0   \n",
       "\n",
       "  att_check_1                                    similar_studies       note  \\\n",
       "0       Salad  Yes, I've done studies where I've completed a ...        NaN   \n",
       "1       Salad                                                NaN        NaN   \n",
       "2       Salad                               yes but not the same  no thanks   \n",
       "4       Salad                                  I don't think so.        NaN   \n",
       "5       Salad                                                 No         No   \n",
       "\n",
       "   att_check_2 interval  \n",
       "0         30.0       2s  \n",
       "1         30.0       2s  \n",
       "2         30.0       2s  \n",
       "4         30.0       2s  \n",
       "5         30.0       2s  \n",
       "\n",
       "[5 rows x 39 columns]"
      ]
     },
     "execution_count": 39,
     "metadata": {},
     "output_type": "execute_result"
    }
   ],
   "source": [
    "respondents.head()"
   ]
  },
  {
   "cell_type": "markdown",
   "id": "9204470c",
   "metadata": {},
   "source": [
    "**Export.**"
   ]
  },
  {
   "cell_type": "code",
   "execution_count": 40,
   "id": "90e4cc3a",
   "metadata": {},
   "outputs": [],
   "source": [
    "respondents.to_csv(\"../data/respondents.csv\")"
   ]
  },
  {
   "cell_type": "code",
   "execution_count": null,
   "id": "194fef88",
   "metadata": {},
   "outputs": [],
   "source": []
  }
 ],
 "metadata": {
  "kernelspec": {
   "display_name": "Python 3 (ipykernel)",
   "language": "python",
   "name": "python3"
  },
  "language_info": {
   "codemirror_mode": {
    "name": "ipython",
    "version": 3
   },
   "file_extension": ".py",
   "mimetype": "text/x-python",
   "name": "python",
   "nbconvert_exporter": "python",
   "pygments_lexer": "ipython3",
   "version": "3.10.6"
  }
 },
 "nbformat": 4,
 "nbformat_minor": 5
}
